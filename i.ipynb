{
 "cells": [
  {
   "cell_type": "code",
   "execution_count": null,
   "metadata": {},
   "outputs": [
    {
     "name": "stdout",
     "output_type": "stream",
     "text": [
      "[0]\ttrain-logloss:0.65423\teval-logloss:0.71369\n",
      "[1]\ttrain-logloss:0.62414\teval-logloss:0.71579\n",
      "[2]\ttrain-logloss:0.59779\teval-logloss:0.71571\n",
      "[3]\ttrain-logloss:0.57047\teval-logloss:0.71570\n",
      "[4]\ttrain-logloss:0.54488\teval-logloss:0.71628\n",
      "[5]\ttrain-logloss:0.52280\teval-logloss:0.71603\n",
      "[6]\ttrain-logloss:0.50665\teval-logloss:0.71682\n",
      "Unexpected exception formatting exception. Falling back to standard exception\n"
     ]
    },
    {
     "name": "stderr",
     "output_type": "stream",
     "text": [
      "Traceback (most recent call last):\n",
      "  File \"/usr/local/lib/python3.8/dist-packages/IPython/core/interactiveshell.py\", line 3378, in run_code\n",
      "    exec(code_obj, self.user_global_ns, self.user_ns)\n",
      "  File \"/tmp/ipykernel_1280702/2306706276.py\", line 29, in <module>\n",
      "    train_and_save_model_bdt()\n",
      "  File \"/tmp/ipykernel_1280702/2306706276.py\", line 17, in train_and_save_model_bdt\n",
      "    model = xgb.train(params, dtrain, num_boost_round=50, evals=evals)\n",
      "  File \"/home/shuangyuan/.local/lib/python3.8/site-packages/xgboost/core.py\", line 738, in inner_f\n",
      "    return func(**kwargs)\n",
      "  File \"/home/shuangyuan/.local/lib/python3.8/site-packages/xgboost/training.py\", line 181, in train\n",
      "    bst.update(dtrain, iteration=i, fobj=obj)\n",
      "  File \"/home/shuangyuan/.local/lib/python3.8/site-packages/xgboost/core.py\", line 2113, in update\n",
      "    _LIB.XGBoosterUpdateOneIter(\n",
      "KeyboardInterrupt\n",
      "\n",
      "During handling of the above exception, another exception occurred:\n",
      "\n",
      "Traceback (most recent call last):\n",
      "  File \"/usr/local/lib/python3.8/dist-packages/IPython/core/interactiveshell.py\", line 1997, in showtraceback\n",
      "    stb = self.InteractiveTB.structured_traceback(\n",
      "  File \"/usr/local/lib/python3.8/dist-packages/IPython/core/ultratb.py\", line 1112, in structured_traceback\n",
      "    return FormattedTB.structured_traceback(\n",
      "  File \"/usr/local/lib/python3.8/dist-packages/IPython/core/ultratb.py\", line 1006, in structured_traceback\n",
      "    return VerboseTB.structured_traceback(\n",
      "  File \"/usr/local/lib/python3.8/dist-packages/IPython/core/ultratb.py\", line 859, in structured_traceback\n",
      "    formatted_exception = self.format_exception_as_a_whole(etype, evalue, etb, number_of_lines_of_context,\n",
      "  File \"/usr/local/lib/python3.8/dist-packages/IPython/core/ultratb.py\", line 793, in format_exception_as_a_whole\n",
      "    self.get_records(etb, number_of_lines_of_context, tb_offset) if etb else []\n",
      "  File \"/usr/local/lib/python3.8/dist-packages/IPython/core/ultratb.py\", line 839, in get_records\n",
      "    style = stack_data.style_with_executing_node(style, \"bg:ansiyellow\")\n",
      "  File \"/usr/local/lib/python3.8/dist-packages/stack_data/core.py\", line 455, in style_with_executing_node\n",
      "    class NewStyle(style):\n",
      "  File \"/usr/lib/python3/dist-packages/pygments/style.py\", line 91, in __new__\n",
      "    ndef[4] = colorformat(styledef[3:])\n",
      "  File \"/usr/lib/python3/dist-packages/pygments/style.py\", line 58, in colorformat\n",
      "    assert False, \"wrong color format %r\" % text\n",
      "AssertionError: wrong color format 'ansiyellow'\n"
     ]
    }
   ],
   "source": [
    "import numpy as np\n",
    "import xgboost as xgb\n",
    "def train_and_save_model_bdt(hidden_units=[16], learning_rate=0.0001, l2_reg=0):\n",
    "    X_train = np.random.rand(100, 5)\n",
    "    Y_train = np.random.randint(0, 2, size=100)\n",
    "    X_val = np.random.rand(50, 5)\n",
    "    Y_val = np.random.randint(0, 2, size=50)\n",
    "    dtrain = xgb.DMatrix(X_train, label=Y_train)\n",
    "    dval = xgb.DMatrix(X_val, label=Y_val)\n",
    "    params = {\n",
    "        'objective': 'binary:logistic',\n",
    "        'eval_metric': 'logloss',\n",
    "        'learning_rate': 0.1,\n",
    "        'max_depth': 6\n",
    "    }\n",
    "    evals = [(dtrain, 'train'), (dval, 'eval')]\n",
    "    model = xgb.train(params, dtrain, num_boost_round=50, evals=evals)\n",
    "    # Predict on validation set\n",
    "    print(\"eeeeeeeeeee\")\n",
    "    y_pred = model.predict(dval)\n",
    "    print(\"fffffffffff\")\n",
    "    y_pred_binary = [1 if pred > 0.5 else 0 for pred in y_pred]\n",
    "    accuracy = accuracy_score(Y_val, y_pred_binary)\n",
    "    \n",
    "    print(f\"Validation Accuracy: {accuracy}\")\n",
    "\n",
    "    return model\n",
    "if __name__ == \"__main__\":\n",
    "  train_and_save_model_bdt()"
   ]
  }
 ],
 "metadata": {
  "kernelspec": {
   "display_name": "Python 3",
   "language": "python",
   "name": "python3"
  },
  "language_info": {
   "codemirror_mode": {
    "name": "ipython",
    "version": 3
   },
   "file_extension": ".py",
   "mimetype": "text/x-python",
   "name": "python",
   "nbconvert_exporter": "python",
   "pygments_lexer": "ipython3",
   "version": "3.8.10"
  }
 },
 "nbformat": 4,
 "nbformat_minor": 2
}
